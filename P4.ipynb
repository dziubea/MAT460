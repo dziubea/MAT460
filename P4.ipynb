{
 "cells": [
  {
   "cell_type": "markdown",
   "metadata": {},
   "source": [
    "## Polynomial interpolation"
   ]
  },
  {
   "cell_type": "code",
   "execution_count": 1,
   "metadata": {},
   "outputs": [],
   "source": [
    "### Plotting our example"
   ]
  },
  {
   "cell_type": "code",
   "execution_count": 2,
   "metadata": {},
   "outputs": [
    {
     "name": "stdout",
     "output_type": "stream",
     "text": [
      "   2\n",
      "1 x + 2\n"
     ]
    }
   ],
   "source": [
    "import numpy as np\n",
    "\n",
    "p = np.poly1d([1,0,2])\n",
    "print(p)\n",
    "\n",
    "t = np.array(np.linspace(-1.1,1.1, 100) )\n",
    "y = p(t)\n",
    "#print(y)\n",
    "\n",
    "#%matplotlib inline                    \n",
    "#import pylab as pl\n",
    "\n",
    "#pl.plot(t, y)\n",
    "#pl.show()"
   ]
  },
  {
   "cell_type": "code",
   "execution_count": 3,
   "metadata": {},
   "outputs": [],
   "source": [
    "### Vandermonde matrix"
   ]
  },
  {
   "cell_type": "markdown",
   "metadata": {},
   "source": [
    "How to generate V from  $ x = [x_1,x_2,...,x_n+1]^𝑇 $\n",
    "\n",
    "and other functions for polynomial interpolation\n",
    "\n",
    "https://docs.scipy.org/doc/numpy/user/\n",
    "\n",
    "https://docs.scipy.org/doc/numpy/reference/routines.polynomials.polynomial.html"
   ]
  },
  {
   "cell_type": "code",
   "execution_count": 4,
   "metadata": {},
   "outputs": [
    {
     "name": "stdout",
     "output_type": "stream",
     "text": [
      "[[ 1. -1.  1.]\n",
      " [ 1.  0.  0.]\n",
      " [ 1.  1.  1.]]\n"
     ]
    }
   ],
   "source": [
    "import numpy as np\n",
    "\n",
    "x = np.array([-1,0,1])\n",
    "V = np.polynomial.polynomial.polyvander(x,2)\n",
    "print(V)"
   ]
  },
  {
   "cell_type": "code",
   "execution_count": 5,
   "metadata": {},
   "outputs": [],
   "source": [
    "## Lagrange interpolation, Lagrange basis polynomials"
   ]
  },
  {
   "cell_type": "code",
   "execution_count": 6,
   "metadata": {},
   "outputs": [
    {
     "name": "stdout",
     "output_type": "stream",
     "text": [
      "[-1  0  1]\n",
      "[3 2 3]\n",
      "3.0 2.0001020304050607 3.0\n"
     ]
    }
   ],
   "source": [
    "import numpy as np\n",
    "\n",
    "x = np.array([-1,0,1])\n",
    "f = np.array([3,2,3])\n",
    "#f = 2 +x^2\n",
    "print(x)\n",
    "print(f)\n",
    "\n",
    "def Lagrange_polynomial(t=0.0):\n",
    "    ''' p(t) = sum_[k=1]^n f_k * L_k(t)\n",
    "        L_k(t) = prod_[j=1],j!=k]=1^n (t - x_j)/(x_k - x_j) '''\n",
    "    n = len(x)\n",
    "    Lagrange = np.ones(n)\n",
    "    polynomial = 0.0\n",
    "    \n",
    "    for k in range(n):\n",
    "        i_not_k = [j for j in list(range(n)) if j !=k]\n",
    "        for e in i_not_k:\n",
    "            Lagrange[k] = Lagrange[k]*(t-x[e])/(x[k]-x[e])     \n",
    "        polynomial = polynomial + f[k]*Lagrange[k]\n",
    "        \n",
    "    return polynomial\n",
    "\n",
    "\n",
    "if __name__ == \"__main__\":\n",
    "    \n",
    "    z = np.linspace(x[0],x[-1],100)\n",
    "    y = np.zeros(100)\n",
    "    \n",
    "    for i,t in enumerate(z):\n",
    "        y[i] = Lagrange_polynomial(t)\n",
    "        \n",
    "    print(y[0],y[50],y[-1])"
   ]
  },
  {
   "cell_type": "code",
   "execution_count": 7,
   "metadata": {},
   "outputs": [],
   "source": [
    "#### Explore the interpolation library"
   ]
  },
  {
   "cell_type": "code",
   "execution_count": 8,
   "metadata": {},
   "outputs": [],
   "source": [
    "#import scipy as sp\n",
    "#poly = sp.interpolate.lagrange(x, f)\n",
    "\n",
    "#from sp.interpolate import lagrange\n",
    "#poly = lagrange(x, f)\n",
    "\n",
    "#print(poly)"
   ]
  },
  {
   "cell_type": "code",
   "execution_count": 9,
   "metadata": {},
   "outputs": [],
   "source": [
    "### Newton interpolation polynomial, developing the algorithm to computed divided differences [WIP]"
   ]
  },
  {
   "cell_type": "code",
   "execution_count": 10,
   "metadata": {},
   "outputs": [
    {
     "name": "stdout",
     "output_type": "stream",
     "text": [
      "[[ 3. -1.  1.]\n",
      " [ 2.  1.  0.]\n",
      " [ 3.  0.  0.]]\n"
     ]
    }
   ],
   "source": [
    "import numpy as np\n",
    "\n",
    "np1 = len(x) \n",
    "dd = np.zeros((np1,np1))\n",
    "dd[:,0] = f\n",
    "for j in range(1,np1):\n",
    "    for k in range(np1-j):\n",
    "        #print(j,k)\n",
    "        dd[k,j] = (dd[k+1,j-1]-dd[k,j-1])/(x[k+j] -x[k])\n",
    "        \n",
    "print(dd)"
   ]
  },
  {
   "cell_type": "code",
   "execution_count": null,
   "metadata": {},
   "outputs": [],
   "source": []
  },
  {
   "cell_type": "code",
   "execution_count": null,
   "metadata": {},
   "outputs": [],
   "source": []
  },
  {
   "cell_type": "code",
   "execution_count": null,
   "metadata": {},
   "outputs": [],
   "source": []
  },
  {
   "cell_type": "code",
   "execution_count": null,
   "metadata": {},
   "outputs": [],
   "source": []
  },
  {
   "cell_type": "code",
   "execution_count": null,
   "metadata": {},
   "outputs": [],
   "source": []
  }
 ],
 "metadata": {
  "kernelspec": {
   "display_name": "Python 3",
   "language": "python",
   "name": "python3"
  },
  "language_info": {
   "codemirror_mode": {
    "name": "ipython",
    "version": 3
   },
   "file_extension": ".py",
   "mimetype": "text/x-python",
   "name": "python",
   "nbconvert_exporter": "python",
   "pygments_lexer": "ipython3",
   "version": "3.8.1"
  }
 },
 "nbformat": 4,
 "nbformat_minor": 4
}
