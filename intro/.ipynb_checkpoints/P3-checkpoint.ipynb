{
 "cells": [
  {
   "cell_type": "markdown",
   "metadata": {},
   "source": [
    "## Python Review Crash Course Review Part - III\n",
    "### SciPy (pronounced “Sigh Pie”) is a Python-based ecosystem of open-source software for mathematics, science, and engineering. The core packages are: **NumPy**, **SciPy**, **Matplotlib**, Ipython, SymPy, Pandas.\n",
    "#### C Jan 2021 Andrea Dziubek"
   ]
  },
  {
   "cell_type": "markdown",
   "metadata": {},
   "source": [
    "### 1. NumPy is the fundamental package needed for scientific computing with Python. This package contains:\n",
    "* a powerful N-dimensional array object\n",
    "* sophisticated (broadcasting) functions\n",
    "* basic linear algebra functions\n",
    "* basic Fourier transforms\n",
    "* sophisticated random number capabilities\n",
    "* tools for integrating Fortran code\n",
    "* tools for integrating C/C++ code\n",
    "\n",
    "> https://numpy.org/    \n",
    "> https://scipy.org/"
   ]
  },
  {
   "cell_type": "markdown",
   "metadata": {},
   "source": [
    "#### 1.a) Create n dimensional numpy arrays"
   ]
  },
  {
   "cell_type": "code",
   "execution_count": 1,
   "metadata": {},
   "outputs": [],
   "source": [
    "#from numpy import array, arange, matrix\n",
    "import numpy as np"
   ]
  },
  {
   "cell_type": "code",
   "execution_count": 2,
   "metadata": {},
   "outputs": [
    {
     "name": "stdout",
     "output_type": "stream",
     "text": [
      "a = [0 1 2] <class 'numpy.ndarray'>\n",
      "b = [0. 1. 2.] <class 'numpy.ndarray'>\n"
     ]
    }
   ],
   "source": [
    "a = np.arange(3)\n",
    "b = np.arange(3, dtype=float)\n",
    "\n",
    "for i in ['a','b']: print(i,\"=\", eval(i), type(eval(i)))"
   ]
  },
  {
   "cell_type": "code",
   "execution_count": 3,
   "metadata": {},
   "outputs": [
    {
     "name": "stdout",
     "output_type": "stream",
     "text": [
      "A =\n",
      " [[0 1 2]\n",
      " [3 4 5]] <class 'numpy.ndarray'>\n",
      "B =\n",
      " [[1 2]\n",
      " [3 4]] <class 'numpy.matrix'>\n"
     ]
    }
   ],
   "source": [
    "A = np.array( [ [0, 1, 2], [3, 4, 5] ] )      # nd-array\n",
    "B = np.matrix( [ [1, 2], [3, 4] ] )           # matrix \n",
    "\n",
    "for i in ['A','B']: print(i,\"=\\n\", eval(i), type(eval(i)))"
   ]
  },
  {
   "cell_type": "markdown",
   "metadata": {},
   "source": [
    "> As a general rule, in numerical mathematics, use nd-arrays for everything, not matrices.   "
   ]
  },
  {
   "cell_type": "code",
   "execution_count": 4,
   "metadata": {},
   "outputs": [
    {
     "name": "stdout",
     "output_type": "stream",
     "text": [
      "[[1. 1. 1.]\n",
      " [1. 1. 1.]\n",
      " [1. 1. 1.]]\n",
      "True\n"
     ]
    }
   ],
   "source": [
    "from numpy import zeros, ones, identity, eye \n",
    "#import numpy as np\n",
    "\n",
    "C = ones((3,3))\n",
    "print(C)\n",
    "\n",
    "D = eye(4)\n",
    "E = identity(4)\n",
    "are_they_equal = np.all( (D-E) == 0 )\n",
    "print(are_they_equal)"
   ]
  },
  {
   "cell_type": "markdown",
   "metadata": {},
   "source": [
    "> https://numpy.org/doc/stable/reference/routines.array-creation.html"
   ]
  },
  {
   "cell_type": "markdown",
   "metadata": {},
   "source": [
    "<font color='purple'> Use the numpy array-creation library, to generate a 3-by-3 identity matrix and an array with 10 zeros. </font>"
   ]
  },
  {
   "cell_type": "markdown",
   "metadata": {},
   "source": [
    "#### 1.b) Assemble an nd-array from nested lists of blocks and reshape an nd-array"
   ]
  },
  {
   "cell_type": "code",
   "execution_count": 5,
   "metadata": {},
   "outputs": [
    {
     "name": "stdout",
     "output_type": "stream",
     "text": [
      "[1.1 0.7]\n",
      "[[1.1]\n",
      " [0.7]]\n",
      "(2, 3) (2, 2) (2, 1)\n"
     ]
    }
   ],
   "source": [
    "c = np.array([1.1, 0.7]) \n",
    "d = c.reshape(2,1)\n",
    "print(c)\n",
    "print(d)\n",
    "print(A.shape,B.shape,d.shape) "
   ]
  },
  {
   "cell_type": "code",
   "execution_count": 6,
   "metadata": {},
   "outputs": [
    {
     "name": "stdout",
     "output_type": "stream",
     "text": [
      "D=\n",
      " [[0.  1.  2. ]\n",
      " [3.  4.  5. ]\n",
      " [1.  2.  1.1]\n",
      " [3.  4.  0.7]]\n"
     ]
    }
   ],
   "source": [
    "D = np.block([[A],\n",
    "              [B,d]])\n",
    "print(\"D=\\n\",D)"
   ]
  },
  {
   "cell_type": "markdown",
   "metadata": {},
   "source": [
    "> https://numpy.org/doc/stable/reference/routines.array-manipulation.html  "
   ]
  },
  {
   "cell_type": "markdown",
   "metadata": {},
   "source": [
    "<font color='purple'> Find reshape() and block() in the array-manipulation library and explain what we did. </font>"
   ]
  },
  {
   "cell_type": "markdown",
   "metadata": {},
   "source": [
    "#### 1.c) Create numpy arrays using linspace (vectors)"
   ]
  },
  {
   "cell_type": "code",
   "execution_count": 7,
   "metadata": {},
   "outputs": [
    {
     "name": "stdout",
     "output_type": "stream",
     "text": [
      "linspace: <class 'numpy.ndarray'> [0.  0.2 0.4 0.6 0.8 1. ]\n"
     ]
    }
   ],
   "source": [
    "import numpy as np\n",
    "a = np.linspace(0,1,6)              # start, end, how many values\n",
    "print('linspace:', type(a), a)"
   ]
  },
  {
   "cell_type": "markdown",
   "metadata": {},
   "source": [
    "#### 1.d) Save numpy arrays to a text file and read NumPy from a text file (Input/Output)"
   ]
  },
  {
   "cell_type": "code",
   "execution_count": 8,
   "metadata": {},
   "outputs": [
    {
     "name": "stdout",
     "output_type": "stream",
     "text": [
      "[0.  0.2 0.4 0.6 0.8 1. ]\n"
     ]
    }
   ],
   "source": [
    "np.savetxt(\"a.dat\",a)\n",
    "b = np.loadtxt(\"a.dat\")\n",
    "print(b)"
   ]
  },
  {
   "cell_type": "markdown",
   "metadata": {},
   "source": [
    "> https://numpy.org/doc/stable/reference/routines.io.html   "
   ]
  },
  {
   "cell_type": "markdown",
   "metadata": {},
   "source": [
    "### 2. What's the difference between NumPy and SciPy? "
   ]
  },
  {
   "cell_type": "markdown",
   "metadata": {},
   "source": [
    ">NumPy contains array data and basic operations such as sorting, indexing, etc whereas, SciPy consists of all the numerical code.  \n",
    ">https://www.scipy.org/scipylib/faq.html\n",
    ">https://stackoverflow.com/questions/6200910/relationship-between-scipy-and-numpy"
   ]
  },
  {
   "cell_type": "markdown",
   "metadata": {},
   "source": [
    "#### 2.a) Linear Algebra: Which combination of the columns of A gives b?"
   ]
  },
  {
   "cell_type": "code",
   "execution_count": 13,
   "metadata": {},
   "outputs": [
    {
     "name": "stdout",
     "output_type": "stream",
     "text": [
      "[1. 2.]\n"
     ]
    }
   ],
   "source": [
    "import numpy as np\n",
    "import scipy as sp\n",
    "A = np.array([[ 2, -1],\n",
    "              [-1,  1]])\n",
    "b = np.array([0,1])\n",
    "\n",
    "x = sp.linalg.solve(A,b)\n",
    "print(x)"
   ]
  },
  {
   "cell_type": "markdown",
   "metadata": {},
   "source": [
    ">https://numpy.org/doc/stable/reference/routines.linalg.html   \n",
    ">https://docs.scipy.org/doc/scipy/reference/linalg.html  \n",
    ">https://docs.scipy.org/doc/scipy/reference/"
   ]
  },
  {
   "cell_type": "markdown",
   "metadata": {},
   "source": [
    "<font color='purple'> Both, numpy.linalg and scipy.linalg have the routine solve(). Which one should you use? Now, you can do the check on P2.ipynb.       \n",
    "Browes through the scipy reference. What is the function interpolate.interp1d(x, y) doing?"
   ]
  },
  {
   "cell_type": "code",
   "execution_count": null,
   "metadata": {},
   "outputs": [],
   "source": [
    "#print(linalg.cholesky(np.ones((3,3))))"
   ]
  },
  {
   "cell_type": "markdown",
   "metadata": {},
   "source": [
    "<font color='purple'> Make the code work and interpret the error message.</font> "
   ]
  },
  {
   "cell_type": "markdown",
   "metadata": {},
   "source": [
    "### 3. Matplotlib and Pylab "
   ]
  },
  {
   "cell_type": "code",
   "execution_count": 17,
   "metadata": {},
   "outputs": [
    {
     "data": {
      "image/png": "[encoded data removed]",
      "text/plain": [
       "<Figure size 432x288 with 1 Axes>"
      ]
     },
     "metadata": {
      "needs_background": "light"
     },
     "output_type": "display_data"
    }
   ],
   "source": [
    "import scipy as sp\n",
    "from math import pi #, cos                   \n",
    "import pylab as pl\n",
    "\n",
    "t = np.array(np.linspace(0, 6*pi, 100) )\n",
    "y = np.cos(t)\n",
    "\n",
    "pl.plot(t, y)\n",
    "pl.show()"
   ]
  },
  {
   "cell_type": "code",
   "execution_count": 18,
   "metadata": {},
   "outputs": [
    {
     "data": {
      "image/png": "[encoded data removed]",
      "text/plain": [
       "<Figure size 432x288 with 1 Axes>"
      ]
     },
     "metadata": {
      "needs_background": "light"
     },
     "output_type": "display_data"
    }
   ],
   "source": [
    "import numpy as np\n",
    "# ploting 2d functions on regular meshes \n",
    "x,y = np.meshgrid(np.linspace(-1,1,100), np.linspace(-1,1,100))\n",
    "f = x**2 + y**2\n",
    "\n",
    "pl.figure()\n",
    "pl.pcolormesh(x, y, f)\n",
    "pl.show()"
   ]
  },
  {
   "cell_type": "markdown",
   "metadata": {},
   "source": [
    "#### <font color='purple'> Make sure that you feel comfortable with numpy, scipy, matplotlib. You should be able to work on the first homework set. \n",
    "\n",
    "> Find information about certain routines in the [numpy reference](https://docs.scipy.org/doc/numpy/reference/), the [numpy user guide](https://docs.scipy.org/doc/numpy/user/), and the [scipy reference](https://docs.scipy.org/doc/scipy/reference/).\n",
    "    \n",
    "> Chapter 1 of the [scipy-lectures](http://www.scipy-lectures.org/) is geared towards engineers.\n",
    "\n",
    "> Use the [matplotlob gallery](https://matplotlib.org/gallery/) as resource for images and source code.\n",
    "\n",
    "> Ask us or [stackoverflow](https://stackoverflow.com) if you have a question. </font>\n"
   ]
  }
 ],
 "metadata": {
  "kernelspec": {
   "display_name": "Python 3",
   "language": "python",
   "name": "python3"
  },
  "language_info": {
   "codemirror_mode": {
    "name": "ipython",
    "version": 3
   },
   "file_extension": ".py",
   "mimetype": "text/x-python",
   "name": "python",
   "nbconvert_exporter": "python",
   "pygments_lexer": "ipython3",
   "version": "3.8.1"
  }
 },
 "nbformat": 4,
 "nbformat_minor": 4
}
