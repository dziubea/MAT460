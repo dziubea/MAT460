{
 "cells": [
  {
   "cell_type": "markdown",
   "metadata": {},
   "source": [
    "## Python Review Crash Course - Part I  \n",
    "### As a Calculator, Data Types, Control Statements, Formatted Output\n",
    "#### C Jan 2021 Andrea Dziubek"
   ]
  },
  {
   "cell_type": "markdown",
   "metadata": {},
   "source": [
    "### 1. Using Python as a calculator"
   ]
  },
  {
   "cell_type": "markdown",
   "metadata": {},
   "source": [
    "> A libary, for example the math library, can be importorted in several ways. <font color='purple'> Which one will work here?  </font>"
   ]
  },
  {
   "cell_type": "code",
   "execution_count": null,
   "metadata": {},
   "outputs": [],
   "source": [
    "#from math import sqrt, pi, exp, cos\n",
    "from math import *\n",
    "#import math\n",
    "#import math as m\n",
    "#import math"
   ]
  },
  {
   "cell_type": "code",
   "execution_count": null,
   "metadata": {},
   "outputs": [],
   "source": [
    "#print(sqrt(4), pi, exp(1), 3**2)\n",
    "#print(math.sqrt(4))\n",
    "print(m.exp(1))"
   ]
  },
  {
   "cell_type": "code",
   "execution_count": null,
   "metadata": {},
   "outputs": [],
   "source": [
    "help(math)\n",
    "help(sqrt)\n",
    "help(math.sqrt)"
   ]
  },
  {
   "cell_type": "markdown",
   "metadata": {},
   "source": [
    "<font color='purple'> Print 'help' on the function 'det' of the 'numpy' library 'linalg'. </font>"
   ]
  },
  {
   "cell_type": "code",
   "execution_count": null,
   "metadata": {},
   "outputs": [],
   "source": [
    "x = 0\n",
    "print(sqrt(x)+pi*cos(x)/exp(x))\n",
    "# Note older python versions may interpret 1/5 as zero\n",
    "print(1/5,1/5.,-1/5)"
   ]
  },
  {
   "cell_type": "markdown",
   "metadata": {},
   "source": [
    "<font color='purple'>Calculate something. Can be anything, for example, sin(pi/2) + sqrt(4), or whatever. </font>"
   ]
  },
  {
   "cell_type": "markdown",
   "metadata": {},
   "source": [
    "### 2. Data types: integers, floats, complex numbers, strings, Boolean values"
   ]
  },
  {
   "cell_type": "code",
   "execution_count": null,
   "metadata": {},
   "outputs": [],
   "source": [
    "x = 1e-3\n",
    "s = 'eh'\n",
    "y = range(10)\n",
    "z = True"
   ]
  },
  {
   "cell_type": "code",
   "execution_count": null,
   "metadata": {
    "scrolled": true
   },
   "outputs": [],
   "source": [
    "print(x, str(x))\n",
    "print(type(x), type(str(x)))\n",
    "print(s, type(s), len(s))\n",
    "print(y, type(y), len(y))\n",
    "print(z, type(z))"
   ]
  },
  {
   "cell_type": "code",
   "execution_count": null,
   "metadata": {},
   "outputs": [],
   "source": [
    "mystring = \"hello world\"\n",
    "mytupp = (1,2)\n",
    "myll = [1,2,3]\n",
    "myfl = 0.007 \n",
    "myint =10\n",
    "print(type(myfl))"
   ]
  },
  {
   "cell_type": "markdown",
   "metadata": {},
   "source": [
    "> https://docs.python.org/3/library/functions.html"
   ]
  },
  {
   "cell_type": "markdown",
   "metadata": {},
   "source": [
    "<font color='purple'>Write a string 'mystring' \"Hello World\". Write a tuple t=(1,2). Write a list with 3 elements, a float (e.g. 0.1), an integer (e.g. 10), and our string.  </font>"
   ]
  },
  {
   "cell_type": "markdown",
   "metadata": {},
   "source": [
    "<font color='purple'> Find the type of 'mystring' and of 'mystring[0]'. You used the functions range(), print(), str(), type(), len(), find 3 more built-in functions.  </font>"
   ]
  },
  {
   "cell_type": "markdown",
   "metadata": {},
   "source": [
    "### 3. Control Statements (\"for\", \"if\", \"else\", \"while\", \"pass\") control the flow of a code block."
   ]
  },
  {
   "cell_type": "markdown",
   "metadata": {},
   "source": [
    "> Python uses indentation to mark blocks of code: 4 spaces (not a tab).    \n",
    "> [https://docs.python.org/3/tutorial/controlflow.html](https://docs.python.org/3/tutorial/controlflow.html)    \n",
    "> [https://docs.python.org/3/reference/compound_stmts.html](https://docs.python.org/3/reference/compound_stmts.html)"
   ]
  },
  {
   "cell_type": "markdown",
   "metadata": {},
   "source": [
    "<font color='purple'> Spead read the python docs on \"control flow\" and on \"compound statements\". </font>"
   ]
  },
  {
   "cell_type": "markdown",
   "metadata": {},
   "source": [
    "####  3.a) A for-loop iterates over the elements of a sequence."
   ]
  },
  {
   "cell_type": "code",
   "execution_count": null,
   "metadata": {},
   "outputs": [],
   "source": [
    "for item in [x,s,y]:\n",
    "    print(item, type(item))         # 4 spaces"
   ]
  },
  {
   "cell_type": "code",
   "execution_count": null,
   "metadata": {},
   "outputs": [],
   "source": [
    "for i in range(10):\n",
    "    print(i)"
   ]
  },
  {
   "cell_type": "code",
   "execution_count": null,
   "metadata": {},
   "outputs": [],
   "source": [
    "for i in ['x','s','y']:\n",
    "    print(i, eval(i))\n",
    "    print(eval(i), type(eval(i)))"
   ]
  },
  {
   "cell_type": "markdown",
   "metadata": {},
   "source": [
    "<font color='purple'> Explain and modify these statements. Generate a for-loop that prints the numbers 0, 0.2, 0.4, 0.6 ... 1. Hint: use numpy.arange() </font>"
   ]
  },
  {
   "cell_type": "markdown",
   "metadata": {},
   "source": [
    "#### 3.b) An if-else block conditionally executes code blocks"
   ]
  },
  {
   "cell_type": "code",
   "execution_count": null,
   "metadata": {},
   "outputs": [],
   "source": [
    "a = 10\n",
    "b = 20\n",
    "if a < b: \n",
    "    print(a)\n",
    "else:\n",
    "    pass   # do nothing"
   ]
  },
  {
   "cell_type": "markdown",
   "metadata": {},
   "source": [
    "<font color='purple'> Explain and modify the statement, write your own if-else block. </font>"
   ]
  },
  {
   "cell_type": "markdown",
   "metadata": {},
   "source": [
    "#### 3.c) Comparison expressions"
   ]
  },
  {
   "cell_type": "markdown",
   "metadata": {},
   "source": [
    "> [https://docs.python.org/3/reference/expressions.html#comparisons](https://docs.python.org/3/reference/expressions.html#comparisons)"
   ]
  },
  {
   "cell_type": "markdown",
   "metadata": {},
   "source": [
    "<font color='purple'> Use other comparison expressions. For example, replace 'a < b' by 'a == b', or by 'a != b', or by '(a==10) and (b==10)' </font>"
   ]
  },
  {
   "cell_type": "markdown",
   "metadata": {},
   "source": [
    "#### 3.d) A while-loop repeats an execution (block) as long as an expression (input condition) is true "
   ]
  },
  {
   "cell_type": "code",
   "execution_count": null,
   "metadata": {},
   "outputs": [],
   "source": [
    "n = 3; s = 0; counter = 1\n",
    "while counter <= n:\n",
    "    s = s + counter\n",
    "    counter += 1\n",
    "print(s)"
   ]
  },
  {
   "cell_type": "markdown",
   "metadata": {},
   "source": [
    "<font color='purple'> Explain and modify the statement, write your own while-loop. For example use other comparison expressions or change the additon to a multiplication. </font>"
   ]
  },
  {
   "cell_type": "markdown",
   "metadata": {},
   "source": [
    "### 4. Formatted output"
   ]
  },
  {
   "cell_type": "code",
   "execution_count": null,
   "metadata": {},
   "outputs": [],
   "source": [
    "print(f'Sum of integer numbers from 1 until {n:d} is {s:1.2f}.')  \n",
    "print(\"Sum of integer numbers from 1 until %d is %1.2f.\" % (n,s)) # old way "
   ]
  },
  {
   "cell_type": "markdown",
   "metadata": {},
   "source": [
    "> [https://docs.python.org/3/tutorial/inputoutput.html](https://docs.python.org/3/tutorial/inputoutput.html)"
   ]
  },
  {
   "cell_type": "markdown",
   "metadata": {},
   "source": [
    "<font color='purple'> Change the output format from float to integer. </font>"
   ]
  },
  {
   "cell_type": "markdown",
   "metadata": {},
   "source": [
    "### 5. List comprehension (makes for-loops shorter)"
   ]
  },
  {
   "cell_type": "code",
   "execution_count": null,
   "metadata": {},
   "outputs": [],
   "source": [
    "for i in range(3):\n",
    "    print((i**2))"
   ]
  },
  {
   "cell_type": "code",
   "execution_count": null,
   "metadata": {},
   "outputs": [],
   "source": [
    "abc = [ (i**2) for i in range(3) ]\n",
    "print(abc)"
   ]
  },
  {
   "cell_type": "markdown",
   "metadata": {},
   "source": [
    "<font color='purple'>Create a list with numbers j=[1,2,..,10], compute the square root of these numbers using control structures (for/while), and print the result (using formated output). </font> "
   ]
  },
  {
   "cell_type": "markdown",
   "metadata": {},
   "source": [
    "### 6. Python documentation\n",
    "\n",
    "> The official Python wepage has everything you need to know. How to install python, documentation (a python tutorial, the library refrerence, and more. <font color='purple'> Browse through them for 15 min. </font>\n",
    "\n",
    "[https://python.org/](https://python.org/)  \n",
    "[https://docs.python.org](https://docs.python.org)\n",
    "\n",
    "\n",
    "> Here are two highly recommended python tutorials. <font color='purple'> Work through one or both for 40 min. </font>\n",
    "\n",
    "[https://www.tutorialspoint.com/python/](https://www.tutorialspoint.com/python)  \n",
    "[https://en.wikibooks.org/wiki/Python_Programming](https://en.wikibooks.org/wiki/Python_Programming)\n",
    "\n",
    "\n",
    "> Useful tips (dir, type, help, how to import libraries). <font color='purple'> Browse through them for 15 min. </font>\n",
    "\n",
    "[https://realpython.com/python-beginner-tips/](https://realpython.com/python-beginner-tips/)   \n",
    "[https://learnpythonthehardway.org/book/intro.html](https://learnpythonthehardway.org/book/intro.html)\n",
    "\n"
   ]
  }
 ],
 "metadata": {
  "kernelspec": {
   "display_name": "Python 3",
   "language": "python",
   "name": "python3"
  },
  "language_info": {
   "codemirror_mode": {
    "name": "ipython",
    "version": 3
   },
   "file_extension": ".py",
   "mimetype": "text/x-python",
   "name": "python",
   "nbconvert_exporter": "python",
   "pygments_lexer": "ipython3",
   "version": "3.8.1"
  }
 },
 "nbformat": 4,
 "nbformat_minor": 4
}
