{
 "cells": [
  {
   "cell_type": "markdown",
   "metadata": {},
   "source": [
    "## Python Crash Course Review (Part II)"
   ]
  },
  {
   "cell_type": "markdown",
   "metadata": {},
   "source": [
    "### 1. Lists and other sequences"
   ]
  },
  {
   "cell_type": "code",
   "execution_count": 1,
   "metadata": {},
   "outputs": [],
   "source": [
    "from math import pi\n",
    "[] # empty list\n",
    "a = [-7, 1., 'you', 3]   # list (mutable)\n",
    "B = [[1, 2, 3], pi, 2]   # nested list\n",
    "c = (1,2)                # tuple (immutable)\n",
    "d = 1,2                  # tuple \n",
    "e = ['numerical', 'differential', 'equations']   # string"
   ]
  },
  {
   "cell_type": "markdown",
   "metadata": {},
   "source": [
    "> <font color='purple'> Change the first element of a to a[0] = 10 and try to change the first element of c to c[0]=10.</font> "
   ]
  },
  {
   "cell_type": "code",
   "execution_count": 2,
   "metadata": {},
   "outputs": [
    {
     "name": "stdout",
     "output_type": "stream",
     "text": [
      "[1, 2, 3]\n"
     ]
    }
   ],
   "source": [
    "print(B[0])"
   ]
  },
  {
   "cell_type": "code",
   "execution_count": 3,
   "metadata": {},
   "outputs": [
    {
     "name": "stdout",
     "output_type": "stream",
     "text": [
      "[-7, 1.0, 'you', 3] (1, 2) (1, 2)\n",
      "a+B:  [-7, 1.0, 'you', 3, [1, 2, 3], 3.141592653589793, 2]\n"
     ]
    }
   ],
   "source": [
    "print(a, c, d)\n",
    "print('a+B: ',a+B)         # concatenating two lists  "
   ]
  },
  {
   "cell_type": "markdown",
   "metadata": {},
   "source": [
    "> <font color='purple'> Write two lists i=[1,2,3], j=[5] and concatenate i and j.</font> "
   ]
  },
  {
   "cell_type": "code",
   "execution_count": 4,
   "metadata": {},
   "outputs": [
    {
     "name": "stdout",
     "output_type": "stream",
     "text": [
      "i=\n",
      " [1, 2, 3] \n",
      " j=\n",
      " [5]\n",
      "[1, 2, 3, 5]\n"
     ]
    }
   ],
   "source": [
    "i=[1,2,3] \n",
    "j=[5]\n",
    "print(\"i=\\n\",i,\"\\n\", \"j=\\n\",j)\n",
    "print(i+j)"
   ]
  },
  {
   "cell_type": "markdown",
   "metadata": {},
   "source": [
    "#### 1.a) Basics Indexing/Slicing (in Python list/array indices start with 0, in Matlab with 1)"
   ]
  },
  {
   "cell_type": "code",
   "execution_count": 5,
   "metadata": {},
   "outputs": [
    {
     "name": "stdout",
     "output_type": "stream",
     "text": [
      "n\n",
      "3\n",
      "[[1, 2, 3], 3.141592653589793, 2] \n",
      " 3\n"
     ]
    }
   ],
   "source": [
    "print(e[0][0])  \n",
    "print(len(e))\n",
    "print(B, \"\\n\", B[0][2])  # indexing a nested list"
   ]
  },
  {
   "cell_type": "code",
   "execution_count": 6,
   "metadata": {},
   "outputs": [
    {
     "name": "stdout",
     "output_type": "stream",
     "text": [
      "[0, 1, 2, 3, 4, 5, 6, 7, 8, 9] \n",
      " 9 \n",
      " [0, 1] \n",
      " [2, 3, 4, 5, 6, 7, 8, 9] \n",
      "\n"
     ]
    }
   ],
   "source": [
    "v = list(range(10))\n",
    "print(v,\"\\n\", v[-1],\"\\n\", v[0:2],\"\\n\", v[2:],\"\\n\")      "
   ]
  },
  {
   "cell_type": "markdown",
   "metadata": {},
   "source": [
    "> <font color='purple'> Create a new list n = [0,3,6,9] from v by specifying a suitable set of indices n=v[start:stop:step].</font>   \n",
    "> [https://stackoverflow.com/questions/509211/understanding-slice-notation](https://stackoverflow.com/questions/509211/understanding-slice-notation)"
   ]
  },
  {
   "cell_type": "markdown",
   "metadata": {},
   "source": [
    "#### 1.b) Indexing n dimensional arrays"
   ]
  },
  {
   "cell_type": "code",
   "execution_count": 7,
   "metadata": {},
   "outputs": [
    {
     "name": "stdout",
     "output_type": "stream",
     "text": [
      "[1 3 5]\n"
     ]
    }
   ],
   "source": [
    "import numpy as np           # vectors\n",
    "v = np.array([1,2,3,4,5])\n",
    "i = [0,2,4]\n",
    "print(v[i])             "
   ]
  },
  {
   "cell_type": "code",
   "execution_count": 8,
   "metadata": {},
   "outputs": [
    {
     "name": "stdout",
     "output_type": "stream",
     "text": [
      "A =\n",
      " [[0 1 2]\n",
      " [3 4 5]]\n",
      "(2, 3)\n"
     ]
    }
   ],
   "source": [
    "import numpy as np                  # 2d-arrays (matrices)\n",
    "A = np.array([[0,1,2],[3,4,5]])\n",
    "print(\"A =\\n\",A)\n",
    "print(A.shape)"
   ]
  },
  {
   "cell_type": "code",
   "execution_count": 9,
   "metadata": {},
   "outputs": [
    {
     "name": "stdout",
     "output_type": "stream",
     "text": [
      "[0 3]\n",
      "[0 3]\n",
      "[0 3]\n",
      "[0 3]\n",
      "[0 3]\n"
     ]
    }
   ],
   "source": [
    "print(A[...,0])\n",
    "print(A[:,0])\n",
    "print(A[:2,0])\n",
    "print(A[-2:,0])\n",
    "print(A[0:,0])"
   ]
  },
  {
   "cell_type": "markdown",
   "metadata": {},
   "source": [
    "> <font color='purple'>Find 3 (or 5) ways to create the array $A[0,:]=[0,1,2]$ from A. </font>    \n",
    "> [https://docs.scipy.org/doc/numpy-1.13.0/reference/arrays.indexing.html](https://docs.scipy.org/doc/numpy-1.13.0/reference/arrays.indexing.html)      ."
   ]
  },
  {
   "cell_type": "markdown",
   "metadata": {},
   "source": [
    "#### 1.c Assemble an nd-array from nested lists of blocks"
   ]
  },
  {
   "cell_type": "code",
   "execution_count": 10,
   "metadata": {},
   "outputs": [
    {
     "name": "stdout",
     "output_type": "stream",
     "text": [
      "[[ 0  1  2  6  7  8]\n",
      " [ 3  4  5  9 10 11]\n",
      " [ 6  7  8  0  1  2]\n",
      " [ 9 10 11  3  4  5]]\n",
      "C =\n",
      " [[ 0  1  2  0  1  2]\n",
      " [ 3  4  5  3  4  5]\n",
      " [ 6  7  8  6  7  8]\n",
      " [ 9 10 11  9 10 11]]\n"
     ]
    }
   ],
   "source": [
    "B = np.array([[6,7,8],\n",
    "              [9,10,11]])\n",
    "C = np.block([[A,B],\n",
    "              [B,A]])\n",
    "print(C)\n",
    "C = np.block([  [A,A],\n",
    "                [B,B]    ])\n",
    "print(\"C =\\n\", C)"
   ]
  },
  {
   "cell_type": "markdown",
   "metadata": {},
   "source": [
    "#### 1.c Extract a submatrix using indexing arrays"
   ]
  },
  {
   "cell_type": "code",
   "execution_count": 11,
   "metadata": {},
   "outputs": [
    {
     "name": "stdout",
     "output_type": "stream",
     "text": [
      "[[0 1]\n",
      " [3 4]]\n",
      "[[0 1]\n",
      " [3 4]]\n"
     ]
    }
   ],
   "source": [
    "D = C[:2,:2]                        # extract upper left 2-by-2 block matrix\n",
    "print(D)\n",
    "i = np.array([0,1])                 # ...using numpy.ix_ function \n",
    "j = np.array([0,1])                  \n",
    "E = np.array(C[np.ix_(i, j)])\n",
    "print(E)"
   ]
  },
  {
   "cell_type": "code",
   "execution_count": 12,
   "metadata": {},
   "outputs": [
    {
     "name": "stdout",
     "output_type": "stream",
     "text": [
      "F =\n",
      " [[ 0  3  6  9]\n",
      " [ 2  5  8 11]] \n",
      "G =\n",
      " [[ 0  2]\n",
      " [ 3  5]\n",
      " [ 6  8]\n",
      " [ 9 11]]\n"
     ]
    }
   ],
   "source": [
    "F = np.array([C[...,0],C[...,2]])       # extract 1st & 3rd column \n",
    "G = np.array([C[:,0],C[:,2]])           # ...into nd-array with 2 rows\n",
    "print(\"F =\\n\",F,\"\\nG =\\n\", G.T)         # print transposed                    "
   ]
  },
  {
   "cell_type": "code",
   "execution_count": 13,
   "metadata": {},
   "outputs": [
    {
     "name": "stdout",
     "output_type": "stream",
     "text": [
      "[1 2 3]\n"
     ]
    }
   ],
   "source": [
    "v = np.array([1,2,3]).T\n",
    "print(v)"
   ]
  },
  {
   "cell_type": "markdown",
   "metadata": {},
   "source": [
    "> <font color='purple'> Find the 'scipy.docs.org' reference describing the 'numpy.ix_' function. </font>"
   ]
  },
  {
   "cell_type": "markdown",
   "metadata": {},
   "source": [
    "### 2. Functions"
   ]
  },
  {
   "cell_type": "markdown",
   "metadata": {},
   "source": [
    "#### 2.a) Defining a function with two arguments which returns $f(x,y)=\\sqrt{x}+\\text{e}^y$. (Remember code block indentation)"
   ]
  },
  {
   "cell_type": "code",
   "execution_count": 14,
   "metadata": {},
   "outputs": [],
   "source": [
    "def f(x, y):\n",
    "    from math import sqrt, exp     # 4 empty spaces\n",
    "    return sqrt(x)+exp(y)"
   ]
  },
  {
   "cell_type": "code",
   "execution_count": 15,
   "metadata": {},
   "outputs": [
    {
     "name": "stdout",
     "output_type": "stream",
     "text": [
      "1.0 3.718281828459045\n"
     ]
    }
   ],
   "source": [
    "print(f(0,0), f(1,1))"
   ]
  },
  {
   "cell_type": "markdown",
   "metadata": {},
   "source": [
    "#### 2.b) Always add a docstring to your python program."
   ]
  },
  {
   "cell_type": "code",
   "execution_count": 16,
   "metadata": {},
   "outputs": [],
   "source": [
    "def g(x=0, y=None):                # initialized parameter\n",
    "    ''' demo function '''          # docstring \n",
    "    from math import sqrt, exp\n",
    "    z = 2                          # local variable z\n",
    "    return z, sqrt(x)+exp(y)"
   ]
  },
  {
   "cell_type": "markdown",
   "metadata": {},
   "source": [
    "#### 2.c) What is the scope of a variable (local/global)? "
   ]
  },
  {
   "cell_type": "code",
   "execution_count": 17,
   "metadata": {},
   "outputs": [
    {
     "name": "stdout",
     "output_type": "stream",
     "text": [
      "(2, 1.0)\n",
      "4\n"
     ]
    }
   ],
   "source": [
    "z = 4                              # global variable z\n",
    "print(g(0,0))\n",
    "print(z)"
   ]
  },
  {
   "cell_type": "markdown",
   "metadata": {},
   "source": [
    "> <font color='purple'> Uncomment z=2 in the function g. </font>"
   ]
  },
  {
   "cell_type": "code",
   "execution_count": 18,
   "metadata": {},
   "outputs": [
    {
     "name": "stdout",
     "output_type": "stream",
     "text": [
      "Help on function g in module __main__:\n",
      "\n",
      "g(x=0, y=None)\n",
      "    demo function\n",
      "\n"
     ]
    }
   ],
   "source": [
    "help(g)"
   ]
  },
  {
   "cell_type": "markdown",
   "metadata": {},
   "source": [
    "#### 2.d) A python script file that calls its function, main scope  "
   ]
  },
  {
   "cell_type": "markdown",
   "metadata": {},
   "source": [
    "> [https://docs.python.org/3/library/__main__.html](https://docs.python.org/3/library/__main__.html)"
   ]
  },
  {
   "cell_type": "code",
   "execution_count": 19,
   "metadata": {},
   "outputs": [
    {
     "name": "stdout",
     "output_type": "stream",
     "text": [
      "Hello World\n"
     ]
    }
   ],
   "source": [
    "def greet():\n",
    "    print(\"Hello World\")\n",
    "    \n",
    "if __name__ == \"__main__\":\n",
    "    greet()     "
   ]
  },
  {
   "cell_type": "code",
   "execution_count": null,
   "metadata": {},
   "outputs": [],
   "source": []
  },
  {
   "cell_type": "code",
   "execution_count": 20,
   "metadata": {},
   "outputs": [
    {
     "name": "stdout",
     "output_type": "stream",
     "text": [
      "[18. 33. -6.]\n",
      "3\n"
     ]
    }
   ],
   "source": [
    "''' this is our first python file name date lu decomposition'''\n",
    "import numpy as np   \n",
    "\n",
    "def main(): \n",
    "    L = np.array([[1,0,0],[-2,1,0],[4,5,1]])\n",
    "    b = np.array([18,-3,231])\n",
    "   \n",
    "    y = forward(L,b) \n",
    "    print(y)\n",
    "    print(L.shape[0])\n",
    "\n",
    "def forward(L,b):\n",
    "    n = L.shape[0]\n",
    "    y = np.zeros(n)\n",
    "    for k in range(n):\n",
    "        y[k]=b[k]\n",
    "        for j in range(k):\n",
    "            y[k]=y[k]-L[k,j]*y[j] \n",
    "            \n",
    "    return y\n",
    "\n",
    "#def backward(U,y):\n",
    "    \n",
    "    \n",
    "\n",
    "if __name__ == \"__main__\":\n",
    "    main()     "
   ]
  },
  {
   "cell_type": "code",
   "execution_count": 21,
   "metadata": {},
   "outputs": [
    {
     "name": "stdout",
     "output_type": "stream",
     "text": [
      "2\n",
      "1\n",
      "1\n",
      "0\n",
      "0\n",
      "0\n"
     ]
    }
   ],
   "source": [
    "n=3\n",
    "for k in range(n-1,-1,-1):\n",
    "    print(k)\n",
    "    for j in range(k+1,n):\n",
    "        print(k)"
   ]
  },
  {
   "cell_type": "code",
   "execution_count": 22,
   "metadata": {},
   "outputs": [
    {
     "name": "stdout",
     "output_type": "stream",
     "text": [
      "0\n",
      "1\n",
      "2\n"
     ]
    }
   ],
   "source": [
    "for i in range(3):\n",
    "    print(i)"
   ]
  },
  {
   "cell_type": "markdown",
   "metadata": {},
   "source": [
    "> replace greet() by main()  to get a nice template for your homework files  \n",
    "> [https://stackoverflow.com/questions/419163/what-does-if-name-main-do](https://stackoverflow.com/questions/419163/what-does-if-name-main-do)"
   ]
  },
  {
   "cell_type": "code",
   "execution_count": null,
   "metadata": {},
   "outputs": [],
   "source": []
  },
  {
   "cell_type": "markdown",
   "metadata": {},
   "source": [
    "### 3. What are PEPs and some more in-depth tutorials\n",
    "\n",
    "> The [Zen of Python](https://www.python.org/dev/peps/pep-0020/) and [Style Guide for Python Code](https://www.python.org/dev/peps/pep-0008/#other-recommendations)\n",
    "\n",
    "> [https://docs.python-guide.org/](https://docs.python-guide.org/)\n",
    "\n",
    "> [https://docs.python-guide.org/intro/learning/](https://docs.python-guide.org/intro/learning/)\n",
    "\n",
    "> [http://www.davekuhlman.org/python_book_01.html](http://www.davekuhlman.org/python_book_01.html)"
   ]
  },
  {
   "cell_type": "code",
   "execution_count": null,
   "metadata": {},
   "outputs": [],
   "source": []
  },
  {
   "cell_type": "code",
   "execution_count": null,
   "metadata": {},
   "outputs": [],
   "source": []
  },
  {
   "cell_type": "code",
   "execution_count": null,
   "metadata": {},
   "outputs": [],
   "source": []
  }
 ],
 "metadata": {
  "kernelspec": {
   "display_name": "Python 3",
   "language": "python",
   "name": "python3"
  },
  "language_info": {
   "codemirror_mode": {
    "name": "ipython",
    "version": 3
   },
   "file_extension": ".py",
   "mimetype": "text/x-python",
   "name": "python",
   "nbconvert_exporter": "python",
   "pygments_lexer": "ipython3",
   "version": "3.8.1"
  }
 },
 "nbformat": 4,
 "nbformat_minor": 4
}
