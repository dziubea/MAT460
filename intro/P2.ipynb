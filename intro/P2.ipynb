{
 "cells": [
  {
   "cell_type": "markdown",
   "metadata": {},
   "source": [
    "## Python Review Crash Course - Part II\n",
    "### Data Structures (Lists and other Sequences), Numpy Arrays, Functions, PEPs\n",
    "#### C Jan 2021 Andrea Dziubek"
   ]
  },
  {
   "cell_type": "markdown",
   "metadata": {},
   "source": [
    "### 1. Lists and other sequences"
   ]
  },
  {
   "cell_type": "code",
   "execution_count": 1,
   "metadata": {},
   "outputs": [
    {
     "ename": "NameError",
     "evalue": "name 'pi' is not defined",
     "output_type": "error",
     "traceback": [
      "\u001b[0;31m---------------------------------------------------------------------------\u001b[0m",
      "\u001b[0;31mNameError\u001b[0m                                 Traceback (most recent call last)",
      "\u001b[0;32m<ipython-input-1-f25e50440887>\u001b[0m in \u001b[0;36m<module>\u001b[0;34m\u001b[0m\n\u001b[1;32m      2\u001b[0m \u001b[0;34m[\u001b[0m\u001b[0;34m]\u001b[0m \u001b[0;31m# empty list\u001b[0m\u001b[0;34m\u001b[0m\u001b[0;34m\u001b[0m\u001b[0m\n\u001b[1;32m      3\u001b[0m \u001b[0ma\u001b[0m \u001b[0;34m=\u001b[0m \u001b[0;34m[\u001b[0m\u001b[0;34m-\u001b[0m\u001b[0;36m7\u001b[0m\u001b[0;34m,\u001b[0m \u001b[0;36m1.\u001b[0m\u001b[0;34m,\u001b[0m \u001b[0;34m'you'\u001b[0m\u001b[0;34m,\u001b[0m \u001b[0;36m3\u001b[0m\u001b[0;34m]\u001b[0m   \u001b[0;31m# list (mutable)\u001b[0m\u001b[0;34m\u001b[0m\u001b[0;34m\u001b[0m\u001b[0m\n\u001b[0;32m----> 4\u001b[0;31m \u001b[0mB\u001b[0m \u001b[0;34m=\u001b[0m \u001b[0;34m[\u001b[0m\u001b[0;34m[\u001b[0m\u001b[0;36m2\u001b[0m\u001b[0;34m,\u001b[0m \u001b[0;36m1\u001b[0m\u001b[0;34m,\u001b[0m \u001b[0;36m3\u001b[0m\u001b[0;34m]\u001b[0m\u001b[0;34m,\u001b[0m \u001b[0mpi\u001b[0m\u001b[0;34m,\u001b[0m \u001b[0;36m2\u001b[0m\u001b[0;34m]\u001b[0m   \u001b[0;31m# nested list\u001b[0m\u001b[0;34m\u001b[0m\u001b[0;34m\u001b[0m\u001b[0m\n\u001b[0m\u001b[1;32m      5\u001b[0m \u001b[0mc\u001b[0m \u001b[0;34m=\u001b[0m \u001b[0;34m(\u001b[0m\u001b[0;36m1\u001b[0m\u001b[0;34m,\u001b[0m\u001b[0;36m2\u001b[0m\u001b[0;34m)\u001b[0m                \u001b[0;31m# tuple (immutable)\u001b[0m\u001b[0;34m\u001b[0m\u001b[0;34m\u001b[0m\u001b[0m\n\u001b[1;32m      6\u001b[0m \u001b[0md\u001b[0m \u001b[0;34m=\u001b[0m \u001b[0;36m1\u001b[0m\u001b[0;34m,\u001b[0m\u001b[0;36m2\u001b[0m                  \u001b[0;31m# tuple\u001b[0m\u001b[0;34m\u001b[0m\u001b[0;34m\u001b[0m\u001b[0m\n",
      "\u001b[0;31mNameError\u001b[0m: name 'pi' is not defined"
     ]
    }
   ],
   "source": [
    "#from math import pi\n",
    "[] # empty list\n",
    "a = [-7, 1., 'you', 3]   # list (mutable)\n",
    "B = [[2, 1, 3], pi, 2]   # nested list\n",
    "c = (1,2)                # tuple (immutable)\n",
    "d = 1,2                  # tuple \n",
    "e = ['numerical', 'differential', 'equations']   # string"
   ]
  },
  {
   "cell_type": "code",
   "execution_count": null,
   "metadata": {},
   "outputs": [],
   "source": [
    "for k in ['a','B','c','d','e']:\n",
    "    print(k,\"= \",eval(k))\n",
    "print(\"B[0] = \", B[0])"
   ]
  },
  {
   "cell_type": "markdown",
   "metadata": {},
   "source": [
    "> https://docs.python.org/3/tutorial/datastructures.html     \n",
    "> (In Python list/array indices start with 0, in Matlab with 1)"
   ]
  },
  {
   "cell_type": "markdown",
   "metadata": {},
   "source": [
    "<font color='purple'> Change the first element of a to a[0] = 10 and try to change the first element of c to c[0]=10. </font> "
   ]
  },
  {
   "cell_type": "markdown",
   "metadata": {},
   "source": [
    "<font color='purple'> Lists have methods, e.g. append, remove, pop, sort, reverse. Add an element to a. Remove an element of 'a' using the remove and the pop method. Sort B[0] and try to sort c. Reverse e.</font> "
   ]
  },
  {
   "cell_type": "code",
   "execution_count": null,
   "metadata": {},
   "outputs": [],
   "source": [
    "print(a, c, d)\n",
    "print('a+B: ',a+B)         # concatenating two lists  "
   ]
  },
  {
   "cell_type": "markdown",
   "metadata": {},
   "source": [
    "<font color='purple'> Write two lists i = [1,2,3], j = [5], concatenate i and j, and print i,j, and i+j.</font> "
   ]
  },
  {
   "cell_type": "markdown",
   "metadata": {},
   "source": [
    "#### 1.a) Basic Indexing/Slicing "
   ]
  },
  {
   "cell_type": "code",
   "execution_count": null,
   "metadata": {},
   "outputs": [],
   "source": [
    "v = list(range(10))    \n",
    "for k in ['v', 'v[-1]','v[0:2]','v[2:]', 'v[2::2]']:\n",
    "    print(k,\" = \",eval(k))"
   ]
  },
  {
   "cell_type": "code",
   "execution_count": null,
   "metadata": {},
   "outputs": [],
   "source": [
    "print(e[0][-1])          # -1 refers to the last element\n",
    "print(B, \"\\n\", B[0][2])  # indexing a nested list"
   ]
  },
  {
   "cell_type": "markdown",
   "metadata": {},
   "source": [
    "> [https://stackoverflow.com/questions/509211/understanding-slice-notation](https://stackoverflow.com/questions/509211/understanding-slice-notation)"
   ]
  },
  {
   "cell_type": "markdown",
   "metadata": {},
   "source": [
    "<font color='purple'> Explain v[-1], v[0:2], v[2:],$ and $v[2::2]. Create a new list n = [0,3,6,9] from v by specifying a suitable set of indices n=v[start:stop:step].</font>   "
   ]
  },
  {
   "cell_type": "markdown",
   "metadata": {},
   "source": [
    "#### 1.b) Indexing of n dimensional Numpy arrays (more about Numpy comes in the next notebook)"
   ]
  },
  {
   "cell_type": "code",
   "execution_count": null,
   "metadata": {},
   "outputs": [],
   "source": [
    "import numpy as np                  # numpy provides the nd-array structure\n",
    "v = np.array([1,2,3,4,5])           # vectors \n",
    "i = [0,2,4]                         # index vector\n",
    "print(v[i])             "
   ]
  },
  {
   "cell_type": "code",
   "execution_count": null,
   "metadata": {},
   "outputs": [],
   "source": [
    "import numpy as np                  \n",
    "A = np.array([[1,2,3],[4,5,6],[7,8,9]])    # 2d-arrays (matrices)\n",
    "print(\"A =\\n\",A)\n",
    "m,n = A.shape\n",
    "print(m,n)"
   ]
  },
  {
   "cell_type": "code",
   "execution_count": null,
   "metadata": {},
   "outputs": [],
   "source": [
    "print(A[...,0])      \n",
    "print(A[:,0])       \n",
    "print(A[:m,0])\n",
    "print(A[-m:,0])\n",
    "print(A[0:,0])"
   ]
  },
  {
   "cell_type": "markdown",
   "metadata": {},
   "source": [
    ">https://numpy.org/doc/stable/reference/arrays.indexing.html"
   ]
  },
  {
   "cell_type": "markdown",
   "metadata": {},
   "source": [
    "<font color='purple'> Explain these 5 different ways to exctract the first column of A. Find 3 (or 5) ways to extract the first row A[0,:]=[1,2,3] of A. </font>"
   ]
  },
  {
   "cell_type": "markdown",
   "metadata": {},
   "source": [
    "#### 1.c) Extract a submatrix using indexing arrays"
   ]
  },
  {
   "cell_type": "code",
   "execution_count": null,
   "metadata": {},
   "outputs": [],
   "source": [
    "print(A[:2,:3])                     # extract first two rows\n",
    "print(np.array([A[0,:],A[1,:]]))    # create new 2d-array from 1st & 2rd row \n",
    "i = [0,1]                           # ...using numpy.ix_ function \n",
    "j = [0,1,2]                  \n",
    "print(A[np.ix_(i, j)])"
   ]
  },
  {
   "cell_type": "markdown",
   "metadata": {},
   "source": [
    "<font color='purple'> Explain these 3 different ways to return the first two rows.   \n",
    "    Find in 'scipy.docs.org' the reference describing the 'numpy.ix_' function.   \n",
    "    Find 3 ways to extract the first and the third column of A. </font>"
   ]
  },
  {
   "cell_type": "code",
   "execution_count": null,
   "metadata": {},
   "outputs": [],
   "source": [
    "i = [[0],[2]]                       # 1st and 3rd row          \n",
    "j = [[0, 2]]                        # 1st and 3rd column       \n",
    "print(A[i,j])\n",
    "print(A[[[0],[2]],[[0, 2]]])        # shorter but less readable\n",
    "print(A[np.ix_([0,2],[0,2])])       # using numpy.ix_             "
   ]
  },
  {
   "cell_type": "markdown",
   "metadata": {},
   "source": [
    "> Here we used lists to generate the index lists i and j.    \n",
    "As a general rule, in numerical mathematics, use nd-arrays for everything, also to generate the index arrays i = np.array([[0],[2]]) and j = np.array([[0, 2]])."
   ]
  },
  {
   "cell_type": "markdown",
   "metadata": {},
   "source": [
    "### 2. Functions"
   ]
  },
  {
   "cell_type": "markdown",
   "metadata": {},
   "source": [
    "#### 2.a) Defining a function with two arguments which returns $f(x,y)=\\sqrt{x}+\\text{e}^y$. (Remember code block indentation)"
   ]
  },
  {
   "cell_type": "code",
   "execution_count": null,
   "metadata": {},
   "outputs": [],
   "source": [
    "def f(x, y):\n",
    "    from math import sqrt, exp     # 4 empty spaces\n",
    "    return sqrt(x)+exp(y)"
   ]
  },
  {
   "cell_type": "markdown",
   "metadata": {},
   "source": [
    "<font color='purple'> Print f(0,0) and f(1,1). </font>"
   ]
  },
  {
   "cell_type": "markdown",
   "metadata": {},
   "source": [
    "#### 2.b) Always add a docstring (at the beginning of a python file and often also at the beginning of a function)."
   ]
  },
  {
   "cell_type": "code",
   "execution_count": null,
   "metadata": {},
   "outputs": [],
   "source": [
    "def g(x=0, y=None):                # initialized parameter\n",
    "    ''' demo function '''          # docstring \n",
    "    from math import sqrt, exp\n",
    "    #z = 2                          # local variable z\n",
    "    return z, sqrt(x)+exp(y)"
   ]
  },
  {
   "cell_type": "code",
   "execution_count": null,
   "metadata": {},
   "outputs": [],
   "source": []
  },
  {
   "cell_type": "markdown",
   "metadata": {},
   "source": [
    "#### 2.c) What is the scope of a variable (local/global)? "
   ]
  },
  {
   "cell_type": "markdown",
   "metadata": {},
   "source": [
    "<font color='purple'>  Print g(0,0) and z. What happend? </font>"
   ]
  },
  {
   "cell_type": "code",
   "execution_count": null,
   "metadata": {},
   "outputs": [],
   "source": [
    "z = 4                              # global variable z"
   ]
  },
  {
   "cell_type": "markdown",
   "metadata": {},
   "source": [
    "<font color='purple'> Print g(0,0) and z. Uncomment z=2 in the function g. Explain what happened.   \n",
    "    Run the command help(g).</font>"
   ]
  },
  {
   "cell_type": "markdown",
   "metadata": {},
   "source": [
    "#### 2.d) A Python script file that calls a function, what is the main scope?  "
   ]
  },
  {
   "cell_type": "markdown",
   "metadata": {},
   "source": [
    "> [https://docs.python.org/3/library/__main__.html](https://docs.python.org/3/library/__main__.html)"
   ]
  },
  {
   "cell_type": "code",
   "execution_count": null,
   "metadata": {},
   "outputs": [],
   "source": [
    "def greet():\n",
    "    print(\"Hello World\")\n",
    "    \n",
    "if __name__ == \"__main__\":\n",
    "    greet()     "
   ]
  },
  {
   "cell_type": "markdown",
   "metadata": {},
   "source": [
    "> replace greet() by main() to get a nice template for your homework files.  \n",
    "> [https://stackoverflow.com/questions/419163/what-does-if-name-main-do](https://stackoverflow.com/questions/419163/what-does-if-name-main-do)"
   ]
  },
  {
   "cell_type": "markdown",
   "metadata": {},
   "source": [
    "#### 2.e) Homework 1 asks you to solve a system of linear equations Ax=b, using the LU decomposition."
   ]
  },
  {
   "cell_type": "code",
   "execution_count": 5,
   "metadata": {},
   "outputs": [
    {
     "name": "stdout",
     "output_type": "stream",
     "text": [
      "[18. 33. -6.]\n"
     ]
    }
   ],
   "source": [
    "''' \n",
    "MAT 460, HW 1ab, Author, Date\n",
    "\n",
    "Solve Ax=b using LU decomposition: (1) decompose A=LU, then solve (2) Ly=b and (3) Ux=y\n",
    "\n",
    "Test: Ax=b has solution x = [1,2,3]^T \n",
    "for \n",
    "L = np.array([[1,0,0],[-2,1,0],[4,5,1]])\n",
    "U = np.array([[2,-1,6],[0,3,9],[0,0,-2]])\n",
    "b = np.array([18,-3,231])\n",
    "'''\n",
    "\n",
    "import numpy as np   \n",
    "\n",
    "def main(): \n",
    "    L = np.array([[1,0,0],[-2,1,0],[4,5,1]])\n",
    "    b = np.array([18,-3,231])\n",
    "   \n",
    "    y = forward(L,b) \n",
    "    print(y)\n",
    "\n",
    "    # check x = solve(LU,b)\n",
    "    # after working on P3.ipynb\n",
    "    \n",
    "    \n",
    "def forward(L,b):\n",
    "    ''' solve Ly = b '''\n",
    "    n = L.shape[0]\n",
    "    y = np.zeros(n)        \n",
    "    for k in range(n):\n",
    "        y[k] = b[k]\n",
    "        for j in range(k):\n",
    "            y[k] = y[k] - L[k,j]*y[j] \n",
    "            \n",
    "    return y\n",
    "\n",
    "# TODO\n",
    "#def backward(U,y):\n",
    "#    return ?\n",
    "\n",
    "#def myLU(A):\n",
    "#    return L,U\n",
    "\n",
    "\n",
    "if __name__ == \"__main__\":\n",
    "    main()     "
   ]
  },
  {
   "cell_type": "markdown",
   "metadata": {},
   "source": [
    "<font color='purple'> Develop the algorithm for the backward solver. Over which index pairs do we have to loop? Write the pseudo-code for this function.  \n",
    "Change the following piece of code so that the two for-loops give the number pairs (k,j) = (2,2), (1,1), (1,2), (0,0), (0,1), (0,2).</font>"
   ]
  },
  {
   "cell_type": "code",
   "execution_count": null,
   "metadata": {},
   "outputs": [],
   "source": [
    "n = 3\n",
    "for k in range(n,-1,1):\n",
    "    for j in range(k+1,n):\n",
    "        print(k,j)"
   ]
  },
  {
   "cell_type": "markdown",
   "metadata": {},
   "source": [
    "### 3. PEPs and more in-depth Python tutorials\n",
    "\n",
    "> The [Zen of Python](https://www.python.org/dev/peps/pep-0020/) and [Style Guide for Python Code](https://www.python.org/dev/peps/pep-0008/#other-recommendations)\n",
    "\n",
    "> [https://docs.python-guide.org/](https://docs.python-guide.org/)\n",
    "\n",
    "> [https://docs.python-guide.org/intro/learning/](https://docs.python-guide.org/intro/learning/)\n",
    "\n",
    "> [http://www.davekuhlman.org/python_book_01.html](http://www.davekuhlman.org/python_book_01.html)"
   ]
  },
  {
   "cell_type": "markdown",
   "metadata": {},
   "source": [
    "<font color='purple'> What are PEPs? Give 3 examples for good coding style.  \n",
    "I liked Kuhlman's book. It has 3 parts: Beginning, Advanced, and Exercises with Solutions (''for those who feel a need for less explanation and more practical exercises'').</font>"
   ]
  }
 ],
 "metadata": {
  "kernelspec": {
   "display_name": "Python 3",
   "language": "python",
   "name": "python3"
  },
  "language_info": {
   "codemirror_mode": {
    "name": "ipython",
    "version": 3
   },
   "file_extension": ".py",
   "mimetype": "text/x-python",
   "name": "python",
   "nbconvert_exporter": "python",
   "pygments_lexer": "ipython3",
   "version": "3.8.1"
  }
 },
 "nbformat": 4,
 "nbformat_minor": 4
}
